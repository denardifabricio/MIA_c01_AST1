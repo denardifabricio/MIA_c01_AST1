{
 "cells": [
  {
   "cell_type": "code",
   "execution_count": null,
   "metadata": {},
   "outputs": [],
   "source": [
    "import os\n",
    "import pandas as pd\n",
    "import numpy as np\n",
    "\n",
    "from src.util import *\n",
    "from src.sarima import SARIMAModel"
   ]
  },
  {
   "cell_type": "code",
   "execution_count": null,
   "metadata": {},
   "outputs": [],
   "source": [
    "ROOT = os.getcwd()\n",
    "MODELS = os.path.join(ROOT, 'models')\n",
    "METRICS = os.path.join(ROOT, 'metrics')\n",
    "DATA = os.path.join(ROOT, 'dataset')\n",
    "FIGURES = os.path.join(ROOT, 'figures')"
   ]
  },
  {
   "cell_type": "markdown",
   "metadata": {},
   "source": [
    "## Construir Dataset"
   ]
  },
  {
   "cell_type": "code",
   "execution_count": null,
   "metadata": {},
   "outputs": [],
   "source": [
    "# Read the CSV file from the dataset folder\n",
    "file_path = os.path.join(DATA, 'TrafficTwoMonth.csv')\n",
    "df = pd.read_csv(file_path)\n",
    "\n",
    "# Create datetime column\n",
    "df = create_datetime_column(df)\n",
    "df.drop(['Time', 'Date', 'Day of the week'], axis=1, inplace=True)"
   ]
  },
  {
   "cell_type": "markdown",
   "metadata": {},
   "source": [
    "## Análisis"
   ]
  },
  {
   "cell_type": "code",
   "execution_count": null,
   "metadata": {},
   "outputs": [],
   "source": [
    "analyser = TrafficAnalyzer(df)\n",
    "\n",
    "message = analyser.check_stationarity(df['Total'])\n",
    "print(message)\n",
    "\n",
    "analyser.plot_time_series(\n",
    "    figsize=(10, 6), \n",
    "    columns=['Total', 'CarCount', 'BikeCount'], \n",
    "    xticks_step=96, \n",
    "    start_pct=20, \n",
    "    end_pct=30,\n",
    "    save_path=os.path.join(FIGURES, 'time_series_traffic.png'))\n",
    "\n",
    "analyser.plot_autocorrelation(series=df['Total'], \n",
    "                              lags=20, \n",
    "                              save_path=os.path.join(FIGURES, 'autocorrelation_traffic.png'))"
   ]
  },
  {
   "cell_type": "markdown",
   "metadata": {},
   "source": [
    "## SARIMA\n",
    "\n",
    "### Introducción teórica\n",
    "\n",
    "El modelo SARIMA (Seasonal AutoRegressive Integrated Moving Average) es una extensión del modelo ARIMA que incorpora la estacionalidad. Se expresa matemáticamente como SARIMA(p,d,q)(P,D,Q,m) donde:\n",
    "\n",
    "- p: orden de la parte autorregresiva (AR)\n",
    "- d: grado de diferenciación necesario para alcanzar la estacionariedad\n",
    "- q: orden de la parte de media móvil (MA)\n",
    "- P: orden de la parte autorregresiva estacional (SAR)\n",
    "- D: grado de diferenciación estacional\n",
    "- Q: orden de la parte de media móvil estacional (SMA)\n",
    "- m: período estacional\n",
    "\n",
    "La ecuación general del modelo SARIMA es:\n",
    "\n",
    "$\\Phi_P(L^m)\\phi_p(L)(1-L^m)^D(1-L)^dy_t = \\Theta_Q(L^m)\\theta_q(L)\\epsilon_t$\n",
    "\n",
    "Donde:\n",
    "- $L$ es el operador de retardo\n",
    "- $\\phi_p(L)$ es el operador AR no estacional\n",
    "- $\\Phi_P(L^m)$ es el operador AR estacional\n",
    "- $\\theta_q(L)$ es el operador MA no estacional\n",
    "- $\\Theta_Q(L^m)$ es el operador MA estacional\n",
    "- $\\epsilon_t$ es el término de error\n",
    "\n",
    "### Secuencia de Modelado\n",
    "\n",
    "1. Primero creamos un modelo SARIMA usando los datos de tráfico total\n",
    "2. Optimizamos los parámetros del modelo probando diferentes combinaciones de p, d, q y P, D, Q (con m=96)\n",
    "3. Ajustamos el modelo con los mejores parámetros encontrados\n",
    "4. Realizamos predicciones usando rolling forecast con una ventana de entrenamiento del 95% de los datos\n",
    "5. Visualizamos los resultados comparando las predicciones con los datos reales"
   ]
  },
  {
   "cell_type": "code",
   "execution_count": null,
   "metadata": {},
   "outputs": [],
   "source": [
    "p_range = range(1, 2)\n",
    "q_range = range(1, 2)\n",
    "P_range = range(1, 3)\n",
    "Q_range = range(1, 3)\n",
    "m = 12\n",
    "d = 0\n",
    "D = 1"
   ]
  },
  {
   "cell_type": "code",
   "execution_count": null,
   "metadata": {},
   "outputs": [],
   "source": [
    "# Optimización\n",
    "sarima_model = SARIMAModel(df['Total'])\n",
    "sarima_model.optimize(p_range, d, q_range, P_range, D, Q_range, m)\n",
    "sarima_model.fit(order=sarima_model.best_order, seasonal_order=sarima_model.best_seasonal_order)"
   ]
  },
  {
   "cell_type": "code",
   "execution_count": null,
   "metadata": {},
   "outputs": [],
   "source": [
    "# Predicción\n",
    "train_size = int(len(df) * 0.98)\n",
    "window = 2\n",
    "predictions_sarima = sarima_model.rolling_forecast(train_size, window)"
   ]
  },
  {
   "cell_type": "code",
   "execution_count": null,
   "metadata": {},
   "outputs": [],
   "source": [
    "# Visualización\n",
    "start_i = int(len(df) * 0.90)\n",
    "end_i = int(len(df) * 0.98)\n",
    "sarima_model.plot_predictions(\n",
    "    train_data=df['Total'].values[start_i:end_i],\n",
    "    test_data=df['Total'].values[end_i:],\n",
    "    predictions=predictions_sarima,\n",
    "    title='Predicciones de tráfico total - SARIMA',\n",
    "    save_path=os.path.join(FIGURES, 'sarima_predictions.png')\n",
    ")"
   ]
  },
  {
   "cell_type": "code",
   "execution_count": null,
   "metadata": {},
   "outputs": [],
   "source": [
    "# Métricas\n",
    "test_data = np.array(df['Total'].iloc[int(len(df) * 0.98):])\n",
    "predictions_sarima = np.array(predictions_sarima)\n",
    "sarima_metrics = sarima_model.calculate_metrics(test_data, predictions_sarima)\n",
    "\n",
    "for key, value in sarima_metrics.items():\n",
    "    print(f\"{key}: {value:.4f}\")"
   ]
  }
 ],
 "metadata": {
  "kernelspec": {
   "display_name": "venv",
   "language": "python",
   "name": "python3"
  },
  "language_info": {
   "name": "python",
   "version": "3.10.16"
  }
 },
 "nbformat": 4,
 "nbformat_minor": 2
}
